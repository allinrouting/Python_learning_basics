{
    "nbformat_minor": 1, 
    "cells": [
        {
            "source": "# Python Learning Basics", 
            "cell_type": "markdown", 
            "metadata": {
                "scrolled": true
            }
        }, 
        {
            "source": "## Types of common objects", 
            "cell_type": "markdown", 
            "metadata": {}
        }, 
        {
            "source": "booleans: value True or False  \nintegers: whole numbers (18 or 65)  \nfloats: number with decimals (18.1 or 65.896347)   \nstrings: text characters ( \"Let's run Python\")   ", 
            "cell_type": "markdown", 
            "metadata": {}
        }, 
        {
            "execution_count": 18, 
            "cell_type": "code", 
            "metadata": {}, 
            "outputs": [
                {
                    "execution_count": 18, 
                    "metadata": {}, 
                    "data": {
                        "text/plain": "bool"
                    }, 
                    "output_type": "execute_result"
                }
            ], 
            "source": "type(True)"
        }, 
        {
            "execution_count": 19, 
            "cell_type": "code", 
            "metadata": {}, 
            "outputs": [
                {
                    "execution_count": 19, 
                    "metadata": {}, 
                    "data": {
                        "text/plain": "int"
                    }, 
                    "output_type": "execute_result"
                }
            ], 
            "source": "type(38)"
        }, 
        {
            "execution_count": 20, 
            "cell_type": "code", 
            "metadata": {}, 
            "outputs": [
                {
                    "execution_count": 20, 
                    "metadata": {}, 
                    "data": {
                        "text/plain": "float"
                    }, 
                    "output_type": "execute_result"
                }
            ], 
            "source": "type(38.26)"
        }, 
        {
            "execution_count": 21, 
            "cell_type": "code", 
            "metadata": {}, 
            "outputs": [
                {
                    "execution_count": 21, 
                    "metadata": {}, 
                    "data": {
                        "text/plain": "str"
                    }, 
                    "output_type": "execute_result"
                }
            ], 
            "source": "type(\"Hello\")"
        }, 
        {
            "source": "## Expressions", 
            "cell_type": "markdown", 
            "metadata": {}
        }, 
        {
            "execution_count": null, 
            "cell_type": "code", 
            "metadata": {}, 
            "outputs": [], 
            "source": ""
        }, 
        {
            "source": "## Variables", 
            "cell_type": "markdown", 
            "metadata": {}
        }, 
        {
            "source": "Variables are names that refer to value.", 
            "cell_type": "markdown", 
            "metadata": {}
        }, 
        {
            "execution_count": 1, 
            "cell_type": "code", 
            "metadata": {}, 
            "outputs": [
                {
                    "output_type": "stream", 
                    "name": "stdout", 
                    "text": "12\n"
                }
            ], 
            "source": "var=12\nprint(var)"
        }, 
        {
            "execution_count": 2, 
            "cell_type": "code", 
            "metadata": {}, 
            "outputs": [
                {
                    "output_type": "stream", 
                    "name": "stdout", 
                    "text": "14\n"
                }
            ], 
            "source": "var_1=12\nvar_2=2\nprint(var_1+var_2)"
        }, 
        {
            "source": "## String Operations", 
            "cell_type": "markdown", 
            "metadata": {}
        }, 
        {
            "source": "Definition ?", 
            "cell_type": "markdown", 
            "metadata": {}
        }, 
        {
            "execution_count": 9, 
            "cell_type": "code", 
            "metadata": {}, 
            "outputs": [
                {
                    "output_type": "stream", 
                    "name": "stdout", 
                    "text": "Ocean \nContinent \nWind\n"
                }
            ], 
            "source": "#Escape with \\\nplanet_earth =\"Ocean \\nContinent \\nWind\"\nprint(planet_earth)"
        }, 
        {
            "execution_count": 10, 
            "cell_type": "code", 
            "metadata": {}, 
            "outputs": [
                {
                    "output_type": "stream", 
                    "name": "stdout", 
                    "text": "abcabcabcabc\ndefdef\nghi\n"
                }
            ], 
            "source": "#Duplicate with *\nfirst=\"abc\" * 4 +\"\\n\"\nsecond=\"def\" * 2 +\"\\n\"\nthird=\"ghi\"\nprint(first + second + third)"
        }, 
        {
            "execution_count": 13, 
            "cell_type": "code", 
            "metadata": {}, 
            "outputs": [
                {
                    "execution_count": 13, 
                    "metadata": {}, 
                    "data": {
                        "text/plain": "'k'"
                    }, 
                    "output_type": "execute_result"
                }
            ], 
            "source": "#Character extraction\nletters=\"abcdefghijkl\"\nletters[10]"
        }, 
        {
            "execution_count": 14, 
            "cell_type": "code", 
            "metadata": {}, 
            "outputs": [
                {
                    "execution_count": 14, 
                    "metadata": {}, 
                    "data": {
                        "text/plain": "'Morld'"
                    }, 
                    "output_type": "execute_result"
                }
            ], 
            "source": "#replace character\ntest=\"World\"\ntest.replace(\"W\",\"M\")"
        }, 
        {
            "execution_count": 16, 
            "cell_type": "code", 
            "metadata": {}, 
            "outputs": [
                {
                    "execution_count": 16, 
                    "metadata": {}, 
                    "data": {
                        "text/plain": "14"
                    }, 
                    "output_type": "execute_result"
                }
            ], 
            "source": "#Get length\nsuper=\"tdnfhffdfgjfnf\"\nlen(super)"
        }, 
        {
            "execution_count": 18, 
            "cell_type": "code", 
            "metadata": {}, 
            "outputs": [
                {
                    "execution_count": 18, 
                    "metadata": {}, 
                    "data": {
                        "text/plain": "['some meat', 'three tomato', 'one salmon']"
                    }, 
                    "output_type": "execute_result"
                }
            ], 
            "source": "#split\ningredients=\"some meat,three tomato,one salmon\"\ningredients.split(\",\")"
        }, 
        {
            "source": "## Lists", 
            "cell_type": "markdown", 
            "metadata": {}
        }, 
        {
            "execution_count": null, 
            "cell_type": "code", 
            "metadata": {}, 
            "outputs": [], 
            "source": ""
        }, 
        {
            "source": "## Tuples", 
            "cell_type": "markdown", 
            "metadata": {}
        }, 
        {
            "execution_count": null, 
            "cell_type": "code", 
            "metadata": {}, 
            "outputs": [], 
            "source": ""
        }, 
        {
            "source": "## Dictionaries", 
            "cell_type": "markdown", 
            "metadata": {}
        }, 
        {
            "execution_count": null, 
            "cell_type": "code", 
            "metadata": {}, 
            "outputs": [], 
            "source": ""
        }, 
        {
            "source": "## sets", 
            "cell_type": "markdown", 
            "metadata": {}
        }, 
        {
            "execution_count": null, 
            "cell_type": "code", 
            "metadata": {}, 
            "outputs": [], 
            "source": ""
        }, 
        {
            "execution_count": null, 
            "cell_type": "code", 
            "metadata": {}, 
            "outputs": [], 
            "source": ""
        }
    ], 
    "metadata": {
        "kernelspec": {
            "display_name": "Python 3.5", 
            "name": "python3", 
            "language": "python"
        }, 
        "language_info": {
            "mimetype": "text/x-python", 
            "nbconvert_exporter": "python", 
            "version": "3.5.5", 
            "name": "python", 
            "file_extension": ".py", 
            "pygments_lexer": "ipython3", 
            "codemirror_mode": {
                "version": 3, 
                "name": "ipython"
            }
        }
    }, 
    "nbformat": 4
}